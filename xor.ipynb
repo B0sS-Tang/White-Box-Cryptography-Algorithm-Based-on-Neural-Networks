{
 "cells": [
  {
   "cell_type": "code",
   "execution_count": 2,
   "id": "8aef5d83",
   "metadata": {},
   "outputs": [],
   "source": [
    "#函数库\n",
    "import time\n",
    "import gc\n",
    "import torch\n",
    "from torch import nn\n",
    "from torch import optim\n",
    "from torch.nn import functional as F\n",
    "import torchvision\n",
    "import torchvision.transforms as transforms\n",
    "from torch.utils.data import DataLoader,TensorDataset\n",
    "import numpy as np\n",
    "import sys\n",
    "import copy"
   ]
  },
  {
   "cell_type": "code",
   "execution_count": 144,
   "id": "ad112aa4",
   "metadata": {},
   "outputs": [],
   "source": [
    "#输入、输出层神经元数\n",
    "inputs=256  \n",
    "outputs=256\n",
    "\n",
    "#参数\n",
    "lr=0.01    #学习率\n",
    "gamma=0   #动量法\n",
    "epochs=2000    #代数\n",
    "bs=8*256      #小批量数\n",
    "\n",
    "#输入数据集 前256位表明网络号，第几个就是对应位置为1，后256个是输入具体数值从0-256对应为1\n",
    "num=256\n",
    "a=256*num\n",
    "x=torch.zeros([a,1,16*32],dtype=torch.float32)\n",
    "#赋予类别标签\n",
    "for i in range(a):\n",
    "    x[i,0,int(i/256)]=1\n",
    "#赋具体数值\n",
    "for i in range(num):\n",
    "    for j in range(256):\n",
    "        x[256*i+j,0,8*32+j]=1\n",
    "x=x.reshape([a,1,16,32])\n",
    "\n",
    "#目标数据 对应的0-256异或其对应的网络号\n",
    "y=torch.zeros([a],dtype=torch.int64)\n",
    "for i in range(num):\n",
    "    for j in range(256):\n",
    "        y[i*256+j]=j\n",
    "for i in range(a):\n",
    "    y[i]=y[i]^(int(i/256))\n",
    "device=torch.device('cuda:0' if torch.cuda.is_available() else 'cpu')\n",
    "#print(sys.getsizeof(x.storage()))\n",
    "#print(sys.getsizeof(y.storage()))\n",
    "dataset=TensorDataset(x,y)\n",
    "#print(dataset.data[0])\n",
    "data=DataLoader(dataset\n",
    "               ,batch_size=bs\n",
    "               ,drop_last=False)\n",
    "#for i in data:\n",
    "#    print(i[0].shape)\n",
    "finsig=torch.zeros([a,256],dtype=torch.float32)\n",
    "finsig=finsig.cuda()"
   ]
  },
  {
   "cell_type": "code",
   "execution_count": 4,
   "id": "b4cba475",
   "metadata": {},
   "outputs": [],
   "source": [
    "#网络构建\n",
    "class Model(nn.Module):\n",
    "    def __init__(self):\n",
    "        super().__init__()\n",
    "        self.conv1=nn.Conv2d(1,16,3,padding=2)    #卷积\n",
    "        self.pool1=nn.MaxPool2d(2)  #最大池化\n",
    "        self.conv2=nn.Conv2d(16,32,3,padding=2)   #卷积\n",
    "        self.pool2=nn.MaxPool2d(2)            #最大池化\n",
    "        #self.conv3=nn.Conv2d(32,48,3)   #卷积\n",
    "        #self.pool3=nn.MaxPool2d(2)            #最大池化\n",
    "        \n",
    "        self.linear1=nn.Linear(5*9*32,2024,bias=True)  #两层全连接\n",
    "        self.linear2=nn.Linear(2024,256,bias=False)\n",
    "    \n",
    "    def forward(self,x):\n",
    "        x=torch.tanh(self.conv1(x))   #前向传播 包括激活函数\n",
    "        x=self.pool1(x)\n",
    "        x=torch.tanh(self.conv2(x))\n",
    "        x=self.pool2(x)\n",
    "        #x=torch.tanh(self.conv3(x))\n",
    "        #x=self.pool3(x)\n",
    "        \n",
    "        x=x.view(-1,5*9*32)\n",
    "        x=torch.tanh(self.linear1(x))\n",
    "        output=F.softmax(self.linear2(x),dim=1)\n",
    "        return output"
   ]
  },
  {
   "cell_type": "code",
   "execution_count": 146,
   "id": "ed915efe",
   "metadata": {},
   "outputs": [],
   "source": [
    "#定义损失函数以及优化算法及迭代\n",
    "def train(net,lr):\n",
    "    start = time.time()\n",
    "    criterion=nn.NLLLoss() #定义多分类损失函数\n",
    "    telr=lr\n",
    "    #opt=optim.SGD(net.parameters(),lr=telr,momentum=gamma) #小批量优化算法\n",
    "    #opt=optim.RMSprop(net.parameters(),lr=telr,alpha=0.15,eps=1e-08,momentum=gamma)\n",
    "    opt=optim.Adam(net.parameters(),lr=telr,betas=(0.15,0.15),eps=1e-08,amsgrad=True)\n",
    "    for epoch in range(epochs):\n",
    "        num1=0\n",
    "        for m,n in data:\n",
    "            x1=m.to(device,non_blocking=True)\n",
    "            y1=n.to(device,non_blocking=True)\n",
    "            sigma=net.forward(x1)       #前向传播\n",
    "            sigma1=torch.log(sigma)    #softmax+log+NLLLOSS=多分类交叉熵函数\n",
    "            loss=criterion(sigma1,y1)   #计算损失函数值\n",
    "            loss.backward()            #反向传播\n",
    "            opt.step()                 #权重更新\n",
    "            opt.zero_grad()            #梯度清零\n",
    "            #telr=lr-lr*(1-(torch.pow(torch.tanh(torch.tensor(-10+10*(epoch/epochs))),2)))+0.1  #学习率衰减函数\n",
    "           \n",
    "            if epoch%50==0 and num1==0:\n",
    "                print('epoch:{} 该epochs中首个loss值:{} '.format(epoch,loss))\n",
    "            \n",
    "            if epoch==epochs-1:\n",
    "                    finsig[num1*bs:num1*bs+bs]=sigma[0:bs]\n",
    "            del sigma,sigma1,loss,x1,y1\n",
    "            gc.collect()\n",
    "            torch.cuda.empty_cache()\n",
    "            num1=num1+1\n",
    "    #统计结果正确的标签数量\n",
    "    num=0\n",
    "    fina=torch.max(finsig,1)[1]  #每个长度为256的标签中的最大值所在的索引就是目标字节值，这是训练结果的值\n",
    "    #y1=torch.max(y,1)[1]        #目标值\n",
    "    for i in range(a):       \n",
    "        temp=fina[i]-y[i]\n",
    "        if temp==0:\n",
    "            num=num+1\n",
    "    print('映射成功的个数:%d'%num)\n",
    "    end = time.time()\n",
    "    print('程序执行时间: ',end - start)\n",
    "    return finsig"
   ]
  },
  {
   "cell_type": "code",
   "execution_count": 161,
   "id": "b5af83dd",
   "metadata": {},
   "outputs": [],
   "source": [
    "#模型实例化和确定随机数种子\n",
    "torch.manual_seed(126)\n",
    "#torch.cuda.manual_seed(126)\n",
    "torch.cuda.manual_seed_all(126)\n",
    "torch.backends.cudnn.deterministic=True\n",
    "net=Model()\n",
    "net=net.to(device)"
   ]
  },
  {
   "cell_type": "code",
   "execution_count": 162,
   "id": "d1038418",
   "metadata": {},
   "outputs": [
    {
     "name": "stdout",
     "output_type": "stream",
     "text": [
      "epoch:0 该epochs中首个loss值:5.545228004455566 \n",
      "epoch:50 该epochs中首个loss值:5.471911907196045 \n",
      "epoch:100 该epochs中首个loss值:1.4377981424331665 \n",
      "epoch:150 该epochs中首个loss值:1.402000069618225 \n",
      "epoch:200 该epochs中首个loss值:1.395120620727539 \n",
      "epoch:250 该epochs中首个loss值:0.833753764629364 \n",
      "epoch:300 该epochs中首个loss值:0.708499550819397 \n",
      "epoch:350 该epochs中首个loss值:0.7010091543197632 \n",
      "epoch:400 该epochs中首个loss值:0.6983631253242493 \n",
      "epoch:450 该epochs中首个loss值:0.6977607607841492 \n",
      "epoch:500 该epochs中首个loss值:0.6972094774246216 \n",
      "epoch:550 该epochs中首个loss值:0.6964151859283447 \n",
      "epoch:600 该epochs中首个loss值:0.6961653828620911 \n",
      "epoch:650 该epochs中首个loss值:0.6964097619056702 \n",
      "epoch:700 该epochs中首个loss值:0.6951165795326233 \n",
      "epoch:750 该epochs中首个loss值:0.6961172223091125 \n",
      "epoch:800 该epochs中首个loss值:0.6950077414512634 \n",
      "epoch:850 该epochs中首个loss值:0.6970321536064148 \n",
      "epoch:900 该epochs中首个loss值:0.6971385478973389 \n",
      "epoch:950 该epochs中首个loss值:0.694757342338562 \n",
      "epoch:1000 该epochs中首个loss值:0.6954259276390076 \n",
      "epoch:1050 该epochs中首个loss值:0.6952390670776367 \n",
      "epoch:1100 该epochs中首个loss值:0.6911848783493042 \n",
      "epoch:1150 该epochs中首个loss值:0.05861543118953705 \n",
      "epoch:1200 该epochs中首个loss值:0.01172703132033348 \n",
      "epoch:1250 该epochs中首个loss值:0.006253436207771301 \n",
      "epoch:1300 该epochs中首个loss值:0.004229553043842316 \n",
      "epoch:1350 该epochs中首个loss值:0.0031828712671995163 \n",
      "epoch:1400 该epochs中首个loss值:0.002547990996390581 \n",
      "epoch:1450 该epochs中首个loss值:0.0021235367748886347 \n",
      "epoch:1500 该epochs中首个loss值:0.0018205114174634218 \n",
      "epoch:1550 该epochs中首个loss值:0.0015930671943351626 \n",
      "epoch:1600 该epochs中首个loss值:0.001416373997926712 \n",
      "epoch:1650 该epochs中首个loss值:0.0012746298452839255 \n",
      "epoch:1700 该epochs中首个loss值:0.0011589317582547665 \n",
      "epoch:1750 该epochs中首个loss值:0.0010624065762385726 \n",
      "epoch:1800 该epochs中首个loss值:0.0009806763846427202 \n",
      "epoch:1850 该epochs中首个loss值:0.0009106933721341193 \n",
      "epoch:1900 该epochs中首个loss值:0.000850196520332247 \n",
      "epoch:1950 该epochs中首个loss值:0.0007969719008542597 \n",
      "映射成功的个数:65536\n",
      "程序执行时间:  2745.33562374115\n"
     ]
    }
   ],
   "source": [
    "#训练与评估  300 2.8752 500 1.4079  550 1.4015 17096  16 32\n",
    "#adam 0.01 0.15 0.15 65536  w0.9861   300 0.7084 1000 0.6954  1950 0.0007\n",
    "sigma=train(net,lr)"
   ]
  },
  {
   "cell_type": "code",
   "execution_count": 131,
   "id": "fa18a0f6",
   "metadata": {},
   "outputs": [
    {
     "name": "stdout",
     "output_type": "stream",
     "text": [
      "tensor(0, device='cuda:0')\n"
     ]
    },
    {
     "data": {
      "text/plain": [
       "tensor([9.9918e-01, 7.1142e-05, 1.5757e-06, 1.4485e-04, 1.0549e-11, 8.2535e-08,\n",
       "        7.2081e-06, 4.4442e-10, 1.1218e-08, 2.7716e-08, 3.8054e-11, 9.6945e-10,\n",
       "        7.9708e-09, 2.0058e-07, 5.2626e-06, 1.2074e-05, 7.4468e-09, 3.3845e-10,\n",
       "        1.5288e-10, 1.5234e-11, 1.1532e-09, 8.9788e-10, 4.9532e-09, 1.9263e-10,\n",
       "        1.5880e-10, 1.3407e-08, 4.0249e-11, 1.7841e-10, 4.7261e-09, 9.4356e-09,\n",
       "        1.3925e-07, 3.0020e-07, 5.6540e-04, 7.0244e-08, 4.6535e-09, 3.9065e-08,\n",
       "        5.1400e-11, 2.2681e-11, 4.1160e-09, 7.5291e-08, 1.4174e-08, 1.0230e-09,\n",
       "        7.4183e-14, 1.9128e-10, 9.5588e-10, 1.0616e-10, 7.7396e-08, 1.4041e-06,\n",
       "        1.1043e-10, 8.6400e-13, 2.1323e-13, 8.9479e-13, 4.1694e-11, 9.4458e-12,\n",
       "        9.5775e-13, 3.6117e-11, 1.8265e-10, 1.1441e-10, 6.0186e-13, 2.7989e-11,\n",
       "        4.6174e-10, 2.4832e-13, 1.2247e-10, 2.1863e-07, 1.1940e-05, 2.6211e-08,\n",
       "        4.4184e-09, 2.7677e-12, 3.2312e-16, 2.0174e-12, 5.0511e-11, 3.2675e-15,\n",
       "        3.6751e-12, 3.3112e-08, 1.0853e-13, 1.0609e-10, 1.5517e-12, 4.6134e-12,\n",
       "        1.7747e-11, 3.0978e-10, 9.9452e-13, 1.1585e-15, 2.8077e-16, 9.8708e-17,\n",
       "        5.2469e-13, 2.0374e-16, 6.9671e-14, 2.6664e-15, 4.5171e-15, 2.6413e-13,\n",
       "        1.4752e-16, 4.4929e-15, 6.1769e-12, 4.4440e-15, 1.7829e-12, 3.8655e-11,\n",
       "        3.1875e-07, 1.9150e-07, 5.7686e-12, 1.9073e-12, 4.9046e-12, 2.9026e-12,\n",
       "        1.3593e-10, 2.9284e-10, 1.2091e-11, 3.4770e-11, 1.1743e-12, 8.0853e-14,\n",
       "        5.0023e-09, 1.7754e-12, 1.0184e-12, 7.2034e-10, 8.2966e-14, 1.1375e-14,\n",
       "        2.2144e-15, 6.0698e-15, 8.5225e-15, 7.5797e-18, 3.5494e-16, 2.4357e-13,\n",
       "        2.3870e-12, 3.5557e-13, 3.1455e-15, 1.2834e-13, 3.7308e-13, 8.9105e-17,\n",
       "        1.2566e-12, 3.4213e-09, 9.5574e-19, 4.2274e-20, 1.2221e-19, 6.3098e-16,\n",
       "        7.5804e-21, 9.5767e-20, 4.1881e-19, 8.9239e-19, 4.9599e-17, 7.0040e-17,\n",
       "        1.2511e-19, 2.2834e-18, 1.3434e-18, 2.7499e-17, 9.8554e-18, 4.0078e-17,\n",
       "        4.5767e-16, 4.8000e-18, 8.5281e-17, 9.1690e-18, 1.9939e-11, 4.5160e-14,\n",
       "        1.0069e-14, 1.4245e-15, 2.1353e-14, 2.4472e-11, 7.6602e-16, 1.8036e-13,\n",
       "        5.4418e-10, 1.0491e-13, 3.6178e-14, 1.2992e-11, 5.5558e-19, 1.0090e-18,\n",
       "        5.4400e-20, 3.1572e-15, 1.5751e-17, 2.3723e-18, 2.5196e-18, 1.1367e-15,\n",
       "        1.2954e-14, 3.2308e-17, 2.9689e-17, 2.8154e-16, 2.0548e-16, 3.4488e-16,\n",
       "        6.5847e-15, 8.9229e-15, 5.1014e-16, 2.0428e-16, 9.4060e-15, 4.2085e-15,\n",
       "        3.6998e-12, 5.5821e-15, 1.2255e-11, 2.1364e-13, 8.9681e-15, 2.9629e-13,\n",
       "        4.5733e-15, 1.7455e-10, 4.3645e-13, 1.0304e-11, 6.7115e-11, 1.5425e-08,\n",
       "        8.8140e-11, 5.4684e-13, 1.5052e-11, 1.1161e-10, 6.6309e-15, 1.3486e-16,\n",
       "        1.4000e-12, 1.5282e-13, 2.2350e-14, 4.9465e-14, 2.9666e-16, 3.6840e-14,\n",
       "        1.3022e-12, 2.4416e-13, 5.0330e-11, 2.0085e-11, 7.9448e-13, 1.7503e-13,\n",
       "        4.2905e-14, 8.2475e-11, 1.1549e-12, 3.8631e-14, 3.9080e-13, 1.2087e-13,\n",
       "        4.7444e-15, 8.2187e-13, 4.5338e-10, 4.4953e-11, 4.0755e-11, 1.8487e-12,\n",
       "        9.7937e-12, 6.3272e-11, 3.1657e-11, 9.9039e-14, 1.0478e-14, 4.5326e-11,\n",
       "        2.2274e-12, 1.8579e-12, 6.0386e-11, 1.1257e-11, 7.3560e-11, 2.0413e-10,\n",
       "        3.1637e-12, 1.9701e-09, 3.4020e-10, 4.4263e-09, 7.6062e-09, 5.5958e-09,\n",
       "        6.3478e-10, 3.7736e-11, 1.5866e-10, 2.1961e-10, 1.1641e-09, 4.8308e-11,\n",
       "        4.4263e-10, 4.5569e-09, 1.6943e-10, 3.7395e-08, 4.8861e-09, 1.6970e-07,\n",
       "        8.0599e-09, 5.2670e-10, 1.3456e-09, 1.4488e-08], device='cuda:0',\n",
       "       grad_fn=<SelectBackward0>)"
      ]
     },
     "execution_count": 131,
     "metadata": {},
     "output_type": "execute_result"
    }
   ],
   "source": [
    "#查看具体的输出结果，可调整0-255一一查看，人工确定结果是否符合预期\n",
    "print(torch.max(sigma[514],dim=0)[1])  #对应的目标值\n",
    "sigma[514]   "
   ]
  },
  {
   "cell_type": "code",
   "execution_count": 102,
   "id": "11a2775b",
   "metadata": {},
   "outputs": [
    {
     "data": {
      "text/plain": [
       "==========================================================================================\n",
       "Layer (type:depth-idx)                   Output Shape              Param #\n",
       "==========================================================================================\n",
       "Model                                    --                        --\n",
       "├─Conv2d: 1-1                            [4096, 16, 18, 34]        160\n",
       "├─MaxPool2d: 1-2                         [4096, 16, 9, 17]         --\n",
       "├─Conv2d: 1-3                            [4096, 36, 11, 19]        5,220\n",
       "├─MaxPool2d: 1-4                         [4096, 36, 5, 9]          --\n",
       "├─Linear: 1-5                            [4096, 2024]              3,280,904\n",
       "├─Linear: 1-6                            [4096, 256]               518,144\n",
       "==========================================================================================\n",
       "Total params: 3,804,428\n",
       "Trainable params: 3,804,428\n",
       "Non-trainable params: 0\n",
       "Total mult-adds (G): 20.43\n",
       "==========================================================================================\n",
       "Input size (MB): 8.39\n",
       "Forward/backward pass size (MB): 642.12\n",
       "Params size (MB): 15.22\n",
       "Estimated Total Size (MB): 665.73\n",
       "=========================================================================================="
      ]
     },
     "execution_count": 102,
     "metadata": {},
     "output_type": "execute_result"
    }
   ],
   "source": [
    "#得出模型所需参数以及所占空间大小\n",
    "from torchinfo import summary\n",
    "net=Model()\n",
    "summary(net,input_size=(256*16,1,16,32))"
   ]
  },
  {
   "cell_type": "code",
   "execution_count": 163,
   "id": "ab962cdb",
   "metadata": {},
   "outputs": [
    {
     "data": {
      "text/plain": [
       "torch.return_types.min(\n",
       "values=tensor(0.9861, grad_fn=<MinBackward0>),\n",
       "indices=tensor(65342))"
      ]
     },
     "execution_count": 163,
     "metadata": {},
     "output_type": "execute_result"
    }
   ],
   "source": [
    "#求出上述网络中误差最大的标签的值\n",
    "temp=[0 for i in range(a)]\n",
    "temp=torch.tensor(temp,dtype=torch.float32)\n",
    "for i in range(a):\n",
    "    temp[i]=torch.max(sigma[i],dim=0)[0]\n",
    "torch.min(temp,dim=0)  #value就是误差最大的值，ind就是对应值的索引号"
   ]
  },
  {
   "cell_type": "code",
   "execution_count": 165,
   "id": "0f97c53d",
   "metadata": {},
   "outputs": [],
   "source": [
    "#保存模型\n",
    "torch.save(net,'xornet.pkl')"
   ]
  },
  {
   "cell_type": "code",
   "execution_count": 5,
   "id": "37186c22",
   "metadata": {},
   "outputs": [],
   "source": [
    "#模拟使用保存后模型的情况\n",
    "net1=torch.load('xornet.pkl')"
   ]
  },
  {
   "cell_type": "code",
   "execution_count": 139,
   "id": "3fad71f4",
   "metadata": {},
   "outputs": [
    {
     "data": {
      "text/plain": [
       "tensor([253, 252, 255, 254, 249, 248, 251, 250, 245, 244, 247, 246, 241, 240,\n",
       "        243, 242, 237, 236, 239, 238, 233, 232, 235, 234, 229, 228, 231, 230,\n",
       "        225, 224, 227, 226, 221, 220, 223, 222, 217, 216, 219, 218, 213, 212,\n",
       "        215, 214, 209, 208, 211, 210, 205, 204, 207, 206, 201, 200, 203, 202,\n",
       "        197, 196, 199, 198, 193, 192, 195, 194, 189, 188, 191, 190, 185, 184,\n",
       "        187, 186, 181, 180, 183, 182, 177, 176, 179, 178, 173, 172, 175, 174,\n",
       "        169, 168, 171, 170, 165, 164, 167, 166, 161, 160, 163, 162, 157, 156,\n",
       "        159, 158, 153, 152, 155, 154, 149, 148, 151, 150, 145, 144, 147, 146,\n",
       "        141, 140, 143, 142, 137, 136, 139, 138, 133, 132, 135, 134, 129, 128,\n",
       "        131, 130, 125, 124, 127, 126, 121, 120, 123, 122, 117, 116, 119, 118,\n",
       "        113, 112, 115, 114, 109, 108, 111, 110, 105, 104, 107, 106, 101, 100,\n",
       "        103, 102,  97,  96,  99,  98,  93,  92,  95,  94,  89,  88,  91,  90,\n",
       "         85,  84,  87,  86,  81,  80,  83,  82,  77,  76,  79,  78,  73,  72,\n",
       "         75,  74,  69,  68,  71,  70,  65,  64,  67,  66,  61,  60,  63,  62,\n",
       "         57,  56,  59,  58,  53,  52,  55,  54,  49,  48,  51,  50,  45,  44,\n",
       "         47,  46,  41,  40,  43,  42,  37,  36,  39,  38,  33,  32,  35,  34,\n",
       "         29,  28,  31,  30,  25,  24,  27,  26,  21,  20,  23,  22,  17,  16,\n",
       "         19,  18,  13,  12,  15,  14,   9,   8,  11,  10,   5,   4,   7,   6,\n",
       "          1,   0,   3,   2], device='cuda:0')"
      ]
     },
     "execution_count": 139,
     "metadata": {},
     "output_type": "execute_result"
    }
   ],
   "source": [
    "#实际值。挑选16个网络中的其中一个网络作为输入，观察其对应的输出\n",
    "tag=253\n",
    "a=torch.zeros([256,1,16*32],dtype=torch.float32)\n",
    "for i in range(256):\n",
    "    a[i,0,tag]=1\n",
    "    a[i,0,8*32+i]=1\n",
    "a=a.reshape([256,1,16,32])\n",
    "a=a.cuda()\n",
    "b=net1.forward(a)\n",
    "b=torch.max(b,dim=1)[1]\n",
    "b"
   ]
  },
  {
   "cell_type": "code",
   "execution_count": null,
   "id": "511ec51b",
   "metadata": {},
   "outputs": [],
   "source": [
    "#目标值。和上面的结果进行对比\n",
    "y2=y[256*tag:256*tag+256]\n",
    "y2"
   ]
  },
  {
   "cell_type": "code",
   "execution_count": null,
   "id": "a8c45ec0",
   "metadata": {},
   "outputs": [],
   "source": []
  },
  {
   "cell_type": "code",
   "execution_count": 137,
   "id": "69c81f50",
   "metadata": {},
   "outputs": [
    {
     "data": {
      "text/plain": [
       "200"
      ]
     },
     "execution_count": 137,
     "metadata": {},
     "output_type": "execute_result"
    }
   ],
   "source": [
    "255^55"
   ]
  }
 ],
 "metadata": {
  "kernelspec": {
   "display_name": "Python 3 (ipykernel)",
   "language": "python",
   "name": "python3"
  },
  "language_info": {
   "codemirror_mode": {
    "name": "ipython",
    "version": 3
   },
   "file_extension": ".py",
   "mimetype": "text/x-python",
   "name": "python",
   "nbconvert_exporter": "python",
   "pygments_lexer": "ipython3",
   "version": "3.9.12"
  }
 },
 "nbformat": 4,
 "nbformat_minor": 5
}
